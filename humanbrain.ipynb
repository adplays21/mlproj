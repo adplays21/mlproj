{
  "nbformat": 4,
  "nbformat_minor": 0,
  "metadata": {
    "colab": {
      "provenance": [],
      "authorship_tag": "ABX9TyN7x+riaWV5VYyYl8VBhlqo",
      "include_colab_link": true
    },
    "kernelspec": {
      "name": "python3",
      "display_name": "Python 3"
    },
    "language_info": {
      "name": "python"
    }
  },
  "cells": [
    {
      "cell_type": "markdown",
      "metadata": {
        "id": "view-in-github",
        "colab_type": "text"
      },
      "source": [
        "<a href=\"https://colab.research.google.com/github/adplays21/mlproj.github.io/blob/main/humanbrain.ipynb\" target=\"_parent\"><img src=\"https://colab.research.google.com/assets/colab-badge.svg\" alt=\"Open In Colab\"/></a>"
      ]
    },
    {
      "cell_type": "code",
      "execution_count": null,
      "metadata": {
        "colab": {
          "base_uri": "https://localhost:8080/"
        },
        "id": "oF5CnS41euzQ",
        "outputId": "acfeb530-7c0e-43bf-e151-823445fe6d96"
      },
      "outputs": [
        {
          "output_type": "execute_result",
          "data": {
            "text/plain": [
              "[]"
            ]
          },
          "metadata": {},
          "execution_count": 1
        }
      ],
      "source": [
        "import tensorflow as tf\n",
        "\n",
        "tf.config.list_physical_devices('GPU')"
      ]
    },
    {
      "cell_type": "code",
      "source": [
        "fashion_mnist = tf.keras.datasets.fashion_mnist\n",
        "(train_images, train_labels), (valid_images, valid_labels) = fashion_mnist.load_data()"
      ],
      "metadata": {
        "colab": {
          "base_uri": "https://localhost:8080/"
        },
        "id": "6isBPXxre2f7",
        "outputId": "040b7cf8-5c9f-4971-866e-a7a9f547c85d"
      },
      "execution_count": null,
      "outputs": [
        {
          "output_type": "stream",
          "name": "stdout",
          "text": [
            "Downloading data from https://storage.googleapis.com/tensorflow/tf-keras-datasets/train-labels-idx1-ubyte.gz\n",
            "29515/29515 [==============================] - 0s 0us/step\n",
            "Downloading data from https://storage.googleapis.com/tensorflow/tf-keras-datasets/train-images-idx3-ubyte.gz\n",
            "26421880/26421880 [==============================] - 0s 0us/step\n",
            "Downloading data from https://storage.googleapis.com/tensorflow/tf-keras-datasets/t10k-labels-idx1-ubyte.gz\n",
            "5148/5148 [==============================] - 0s 0us/step\n",
            "Downloading data from https://storage.googleapis.com/tensorflow/tf-keras-datasets/t10k-images-idx3-ubyte.gz\n",
            "4422102/4422102 [==============================] - 0s 0us/step\n"
          ]
        }
      ]
    },
    {
      "cell_type": "code",
      "source": [
        "import matplotlib.pyplot as plt\n",
        "\n",
        "\n",
        "data_idx = 42\n",
        "\n",
        "plt.figure()\n",
        "plt.imshow(train_images[data_idx], cmap='gray')\n",
        "plt.colorbar()\n",
        "plt.grid(False)\n",
        "plt.show()"
      ],
      "metadata": {
        "colab": {
          "base_uri": "https://localhost:8080/",
          "height": 430
        },
        "id": "BlkOgXNle7v3",
        "outputId": "ced9388b-ea55-40db-e4b4-99461e182ede"
      },
      "execution_count": null,
      "outputs": [
        {
          "output_type": "display_data",
          "data": {
            "text/plain": [
              "<Figure size 640x480 with 2 Axes>"
            ],
            "image/png": "[encoded data removed]"
          },
          "metadata": {}
        }
      ]
    },
    {
      "cell_type": "code",
      "source": [
        "train_labels[data_idx]"
      ],
      "metadata": {
        "colab": {
          "base_uri": "https://localhost:8080/"
        },
        "id": "dp7gx7s7e_9f",
        "outputId": "5084f955-8567-4272-d383-09b9aa2ec3d4"
      },
      "execution_count": null,
      "outputs": [
        {
          "output_type": "execute_result",
          "data": {
            "text/plain": [
              "9"
            ]
          },
          "metadata": {},
          "execution_count": 4
        }
      ]
    },
    {
      "cell_type": "code",
      "source": [
        "import matplotlib.pyplot as plt\n",
        "|\n",
        "data_idx = 6174\n",
        "\n",
        "plt.figure()\n",
        "plt.imshow(valid_images[data_idx], cmap='gray')\n",
        "plt.colorbar()\n",
        "plt.grid(False)\n",
        "plt.show()"
      ],
      "metadata": {
        "colab": {
          "base_uri": "https://localhost:8080/",
          "height": 430
        },
        "id": "i-HUCfbufH5M",
        "outputId": "bcb76e3e-309b-4da6-9465-1432611df72f"
      },
      "execution_count": null,
      "outputs": [
        {
          "output_type": "display_data",
          "data": {
            "text/plain": [
              "<Figure size 640x480 with 2 Axes>"
            ],
            "image/png": "[encoded data removed]"
          },
          "metadata": {}
        }
      ]
    },
    {
      "cell_type": "code",
      "source": [
        "valid_labels[data_idx]"
      ],
      "metadata": {
        "colab": {
          "base_uri": "https://localhost:8080/"
        },
        "id": "AK-PF2LafNO0",
        "outputId": "2a05d2c1-9934-4db8-d4cf-aeb574b83eaf"
      },
      "execution_count": null,
      "outputs": [
        {
          "output_type": "execute_result",
          "data": {
            "text/plain": [
              "7"
            ]
          },
          "metadata": {},
          "execution_count": 6
        }
      ]
    },
    {
      "cell_type": "code",
      "source": [
        "valid_images[data_idx]"
      ],
      "metadata": {
        "colab": {
          "base_uri": "https://localhost:8080/"
        },
        "id": "DFEodltyfP1o",
        "outputId": "a2ae1a78-d940-4ed2-e0d4-2f9ca0c90a17"
      },
      "execution_count": null,
      "outputs": [
        {
          "output_type": "execute_result",
          "data": {
            "text/plain": [
              "array([[  0,   0,   0,   0,   0,   0,   0,   0,   0,   0,   0,   0,   0,\n",
              "          0,   0,   0,   0,   0,   0,   0,   0,   0,   0,   0,   0,   0,\n",
              "          0,   0],\n",
              "       [  0,   0,   0,   0,   0,   0,   0,   0,   0,   0,   0,   0,   0,\n",
              "          0,   0,   0,   0,   0,   0,   0,   0,   0,   0,   0,   0,   0,\n",
              "          0,   0],\n",
              "       [  0,   0,   0,   0,   0,   0,   0,   0,   0,   0,   0,   0,   0,\n",
              "          0,   0,   0,   0,   0,   0,   0,   0,   0,   0,   0,   0,   0,\n",
              "          0,   0],\n",
              "       [  0,   0,   0,   0,   0,   0,   0,   0,   0,   0,   0,   0,   0,\n",
              "          0,   0,   0,   0,   0,   0,   0,   0,   0,   0,   0,   0,   0,\n",
              "          0,   0],\n",
              "       [  0,   0,   0,   0,   0,   0,   0,   0,   0,   0,   0,   0,   0,\n",
              "          0,   0,   0,   0,   0,   0,   0,   0,   0,   0,   0,   0,   0,\n",
              "          0,   0],\n",
              "       [  0,   0,   0,   0,   0,   0,   0,   0,   0,   0,   0,   0,   0,\n",
              "          0,   0,   0,   0,   0,   0,   0,   0,   0,   0,   0,   0,   0,\n",
              "          0,   0],\n",
              "       [  0,   0,   0,   0,   0,   0,   0,   0,   0,   0,   0,   0,   0,\n",
              "          0,   0,   0,   0,   0,   0,   0,   0,   0,   0,   0,   0,   0,\n",
              "          0,   0],\n",
              "       [  0,   0,   0,   0,   0,   0,   0,   0,   0,   0,   0,   0,   0,\n",
              "          0,   0,   0, 155, 133,   0,   0,   1,   0,   0,   3,   0,   0,\n",
              "          0,   0],\n",
              "       [  0,   0,   0,   0,   0,   0,   0,   0,   0,   5,   0,   0,   0,\n",
              "          1,   0,   0, 175, 235,  35,   0,   3,   0,   5,   2,   3,   1,\n",
              "          0,   0],\n",
              "       [  0,   0,   0,   0,   0,   0,   0,   0,   0,   0,   1,   0,   0,\n",
              "          0,   0,  93, 219, 220,  32,   0,   0,   0,   0,   0,   0,   0,\n",
              "          1,   0],\n",
              "       [  0,   0,   0,   0,   0,   0,   0,   0,   0,   0,   2,   2,   0,\n",
              "          0, 147, 218, 159, 218,  28,   0,   2,   0,  82, 202, 115,   0,\n",
              "          0,   1],\n",
              "       [  0,   0,   0,   0,   0,   0,   0,   0,   2,   0,   0,   0,   0,\n",
              "        144, 248, 155, 105, 174,  87,   0,   0,   0, 233, 253, 213,   8,\n",
              "          0,   1],\n",
              "       [  1,   0,   0,   0,   1,   2,   2,   0,   0,   0,   0,  99, 233,\n",
              "        119,  81,  89, 140, 183, 208, 139,  74, 218, 223, 184, 189, 145,\n",
              "          0,   0],\n",
              "       [  0,   1,   2,   3,   5,   0,   0,   0,   0, 173, 153, 195,  97,\n",
              "        157, 220, 228, 213, 189, 182, 189, 220, 213, 174, 185, 186, 198,\n",
              "          0,   0],\n",
              "       [  1,   0,   0,   0,   0,  10, 129, 202, 198, 129, 149,  84, 124,\n",
              "        236, 221, 209, 226, 221, 166, 186, 179, 178, 205, 177, 206, 196,\n",
              "          0,   0],\n",
              "       [  0,   0,   6,  49,  80, 148, 203, 181, 203, 164, 145, 178, 159,\n",
              "        138, 174, 186, 162, 169, 177, 200, 214, 206, 178, 179, 205, 227,\n",
              "          6,   0],\n",
              "       [  3, 104, 128, 126, 124, 105,  85,  75,  99, 181, 140, 141, 185,\n",
              "        179, 181, 183, 185, 204, 227, 255, 224, 226, 234, 227, 159, 198,\n",
              "        198,   0],\n",
              "       [ 62, 150, 115, 111,  91, 117, 131, 102, 129, 120, 153, 176, 216,\n",
              "        232, 238, 238, 211, 242, 173,  26,   0,  54, 104,  20,   0,   0,\n",
              "         48,  16],\n",
              "       [116, 179, 173, 173, 202, 188, 200, 228, 179, 150, 100,  89, 164,\n",
              "         39,   0,  82, 129,  17,   0,   0,   0,   0,   0,   0,  25,  11,\n",
              "          0,  12],\n",
              "       [ 10, 122, 108, 148, 115, 145, 148,  79,  38,   0,   0,   0,   0,\n",
              "          0,   0,   0,   0,   0,   9,  14,   7,  18,   9,   5,   0,  12,\n",
              "          0,   0],\n",
              "       [  0,   5,  57,  67,   0,   0,   0,   1,   0,   0,   8,   8,  71,\n",
              "         55,  11,  32,  30,  30,  17,   4,   3,   9,  15,  17,  29,  37,\n",
              "         92, 106],\n",
              "       [  0,   0,   0,  58,  50, 142, 169,  80, 144, 156, 148, 159, 152,\n",
              "        156, 136, 151, 142,  70, 139, 161,  98, 131, 145,  60, 141, 121,\n",
              "         77,   0],\n",
              "       [  0,   0,   0,   0,   0,   0,   0,   0,   0,   0,   0,   0,   0,\n",
              "          0,   0,   0,   0,   0,   0,   0,   0,   0,   0,   0,   0,   0,\n",
              "          0,   0],\n",
              "       [  0,   0,   0,   0,   0,   0,   0,   0,   0,   0,   0,   0,   0,\n",
              "          0,   0,   0,   0,   0,   0,   0,   0,   0,   0,   0,   0,   0,\n",
              "          0,   0],\n",
              "       [  0,   0,   0,   0,   0,   0,   0,   0,   0,   0,   0,   0,   0,\n",
              "          0,   0,   0,   0,   0,   0,   0,   0,   0,   0,   0,   0,   0,\n",
              "          0,   0],\n",
              "       [  0,   0,   0,   0,   0,   0,   0,   0,   0,   0,   0,   0,   0,\n",
              "          0,   0,   0,   0,   0,   0,   0,   0,   0,   0,   0,   0,   0,\n",
              "          0,   0],\n",
              "       [  0,   0,   0,   0,   0,   0,   0,   0,   0,   0,   0,   0,   0,\n",
              "          0,   0,   0,   0,   0,   0,   0,   0,   0,   0,   0,   0,   0,\n",
              "          0,   0],\n",
              "       [  0,   0,   0,   0,   0,   0,   0,   0,   0,   0,   0,   0,   0,\n",
              "          0,   0,   0,   0,   0,   0,   0,   0,   0,   0,   0,   0,   0,\n",
              "          0,   0]], dtype=uint8)"
            ]
          },
          "metadata": {},
          "execution_count": 7
        }
      ]
    },
    {
      "cell_type": "code",
      "source": [
        "number_of_classes = train_labels.max() + 1\n",
        "number_of_classes"
      ],
      "metadata": {
        "colab": {
          "base_uri": "https://localhost:8080/"
        },
        "id": "DDFIv00rfTwn",
        "outputId": "b6115cb7-3573-4e9d-8d75-f7f1d5e1f95d"
      },
      "execution_count": null,
      "outputs": [
        {
          "output_type": "execute_result",
          "data": {
            "text/plain": [
              "10"
            ]
          },
          "metadata": {},
          "execution_count": 8
        }
      ]
    },
    {
      "cell_type": "code",
      "source": [
        "model = tf.keras.Sequential([\n",
        "    tf.keras.layers.Flatten(input_shape=(28, 28)),\n",
        "    tf.keras.layers.Dense(number_of_classes)\n",
        "])"
      ],
      "metadata": {
        "id": "oTZSxPnDfW5q"
      },
      "execution_count": null,
      "outputs": []
    },
    {
      "cell_type": "code",
      "source": [
        "model.summary()"
      ],
      "metadata": {
        "colab": {
          "base_uri": "https://localhost:8080/"
        },
        "id": "QYIgLkwufZpE",
        "outputId": "47168825-7e4c-4234-e7e2-5c4eb649b9ba"
      },
      "execution_count": null,
      "outputs": [
        {
          "output_type": "stream",
          "name": "stdout",
          "text": [
            "Model: \"sequential\"\n",
            "_________________________________________________________________\n",
            " Layer (type)                Output Shape              Param #   \n",
            "=================================================================\n",
            " flatten (Flatten)           (None, 784)               0         \n",
            "                                                                 \n",
            " dense (Dense)               (None, 10)                7850      \n",
            "                                                                 \n",
            "=================================================================\n",
            "Total params: 7,850\n",
            "Trainable params: 7,850\n",
            "Non-trainable params: 0\n",
            "_________________________________________________________________\n"
          ]
        }
      ]
    },
    {
      "cell_type": "code",
      "source": [
        "image_height = 28\n",
        "image_width = 28\n",
        "\n",
        "number_of_weights = image_height * image_width * number_of_classes\n",
        "number_of_weights"
      ],
      "metadata": {
        "colab": {
          "base_uri": "https://localhost:8080/"
        },
        "id": "fDAgQ0W7fcxi",
        "outputId": "c98143e5-9dbf-4c29-89e7-924f4d52ca19"
      },
      "execution_count": null,
      "outputs": [
        {
          "output_type": "execute_result",
          "data": {
            "text/plain": [
              "7840"
            ]
          },
          "metadata": {},
          "execution_count": 11
        }
      ]
    },
    {
      "cell_type": "code",
      "source": [
        "tf.keras.utils.plot_model(model, show_shapes=True)"
      ],
      "metadata": {
        "colab": {
          "base_uri": "https://localhost:8080/",
          "height": 312
        },
        "id": "m3a3J1FPff-J",
        "outputId": "e09303ef-1d25-42b4-fdfe-6d59424a8de0"
      },
      "execution_count": null,
      "outputs": [
        {
          "output_type": "execute_result",
          "data": {
            "image/png": "[encoded data removed]",
            "text/plain": [
              "<IPython.core.display.Image object>"
            ]
          },
          "metadata": {},
          "execution_count": 12
        }
      ]
    },
    {
      "cell_type": "code",
      "source": [
        "model.compile(optimizer='adam',\n",
        "              loss=tf.keras.losses.SparseCategoricalCrossentropy(from_logits=True),\n",
        "              metrics=['accuracy'])"
      ],
      "metadata": {
        "id": "EHHLxDUbfjJy"
      },
      "execution_count": null,
      "outputs": []
    },
    {
      "cell_type": "code",
      "source": [
        "history = model.fit(\n",
        "    train_images,\n",
        "    train_labels,\n",
        "    epochs=5,\n",
        "    verbose=True,\n",
        "    validation_data=(valid_images, valid_labels)\n",
        ")"
      ],
      "metadata": {
        "colab": {
          "base_uri": "https://localhost:8080/"
        },
        "id": "mBZ4SmfefnD-",
        "outputId": "8e94a40f-98cf-484a-db37-3a41aaa2014d"
      },
      "execution_count": null,
      "outputs": [
        {
          "output_type": "stream",
          "name": "stdout",
          "text": [
            "Epoch 1/5\n",
            "1875/1875 [==============================] - 5s 2ms/step - loss: 16.5682 - accuracy: 0.7461 - val_loss: 10.3014 - val_accuracy: 0.7968\n",
            "Epoch 2/5\n",
            "1875/1875 [==============================] - 5s 2ms/step - loss: 12.4556 - accuracy: 0.7867 - val_loss: 13.1834 - val_accuracy: 0.7623\n",
            "Epoch 3/5\n",
            "1875/1875 [==============================] - 4s 2ms/step - loss: 11.7950 - accuracy: 0.7934 - val_loss: 12.7696 - val_accuracy: 0.7923\n",
            "Epoch 4/5\n",
            "1875/1875 [==============================] - 4s 2ms/step - loss: 10.8969 - accuracy: 0.8008 - val_loss: 11.2459 - val_accuracy: 0.8003\n",
            "Epoch 5/5\n",
            "1875/1875 [==============================] - 5s 3ms/step - loss: 10.5815 - accuracy: 0.8035 - val_loss: 10.7503 - val_accuracy: 0.7923\n"
          ]
        }
      ]
    },
    {
      "cell_type": "code",
      "source": [
        "model.predict(train_images[0:10])"
      ],
      "metadata": {
        "colab": {
          "base_uri": "https://localhost:8080/"
        },
        "id": "aM2CDnWffqB8",
        "outputId": "f3009210-0247-406b-b324-c34d9d2b27eb"
      },
      "execution_count": null,
      "outputs": [
        {
          "output_type": "stream",
          "name": "stdout",
          "text": [
            "1/1 [==============================] - 0s 145ms/step\n"
          ]
        },
        {
          "output_type": "execute_result",
          "data": {
            "text/plain": [
              "array([[ -298.38437  ,  -545.5586   ,  -154.20363  ,  -237.16241  ,\n",
              "         -343.33652  ,   358.77023  ,   -34.496887 ,   277.72266  ,\n",
              "           76.28626  ,   760.7381   ],\n",
              "       [  299.5064   ,  -279.24274  ,   198.30125  ,   142.4787   ,\n",
              "         -115.88961  , -1343.6372   ,   221.84448  , -2015.5951   ,\n",
              "          -43.730278 ,  -914.4313   ],\n",
              "       [   74.02689  ,    19.08198  ,    65.029366 ,   114.93637  ,\n",
              "           64.05992  ,  -512.051    ,    65.956566 ,  -512.83044  ,\n",
              "          -27.940594 ,  -258.4405   ],\n",
              "       [  137.6899   ,    42.446213 ,   150.38107  ,   160.79807  ,\n",
              "           56.05865  ,  -842.86456  ,   137.14896  , -1147.5944   ,\n",
              "          -62.431915 ,  -621.00507  ],\n",
              "       [  200.74562  ,   213.95726  ,   139.16747  ,   260.6032   ,\n",
              "          153.85155  ,  -959.5044   ,   123.992775 ,  -871.84283  ,\n",
              "           96.32308  ,  -734.9889   ],\n",
              "       [  166.13228  ,   -36.877632 ,   335.7256   ,   140.47874  ,\n",
              "          208.24724  ,  -806.30255  ,   221.17715  , -1674.785    ,\n",
              "           14.4038315,  -928.90125  ],\n",
              "       [ -124.36492  ,  -220.91628  ,   -59.57897  ,   -27.875013 ,\n",
              "          -37.257    ,   238.02638  ,   -38.818943 ,   285.01358  ,\n",
              "          181.6351   ,   149.69286  ],\n",
              "       [  132.3146   ,  -163.15512  ,   238.72014  ,    -3.693851 ,\n",
              "          278.5996   , -1160.7177   ,   226.1561   , -1844.2859   ,\n",
              "           -9.970539 ,  -681.14734  ],\n",
              "       [  -91.13558  ,  -405.5813   ,  -156.56555  ,  -227.18033  ,\n",
              "         -275.35092  ,   376.71024  ,   -57.270187 ,    -3.352312 ,\n",
              "          -40.576748 ,   245.91599  ],\n",
              "       [ -127.64028  ,  -379.53802  ,   -95.9649   ,  -174.68172  ,\n",
              "         -142.53096  ,   696.60223  ,   -16.802856 ,  -207.62366  ,\n",
              "           50.914284 ,   308.70416  ]], dtype=float32)"
            ]
          },
          "metadata": {},
          "execution_count": 15
        }
      ]
    },
    {
      "cell_type": "code",
      "source": [
        "data_idx = 8675 # The question number to study with. Feel free to change up to 59999.\n",
        "\n",
        "plt.figure()\n",
        "plt.imshow(train_images[data_idx], cmap='gray')\n",
        "plt.colorbar()\n",
        "plt.grid(False)\n",
        "plt.show()\n",
        "\n",
        "x_values = range(number_of_classes)\n",
        "plt.figure()\n",
        "plt.bar(x_values, model.predict(train_images[data_idx:data_idx+1]).flatten())\n",
        "plt.xticks(range(10))\n",
        "plt.show()\n",
        "\n",
        "print(\"correct answer:\", train_labels[data_idx])"
      ],
      "metadata": {
        "colab": {
          "base_uri": "https://localhost:8080/",
          "height": 878
        },
        "id": "Oqudsjgof2B3",
        "outputId": "02bde8b7-fc3f-4f54-cea2-0d1aa6bf2f44"
      },
      "execution_count": null,
      "outputs": [
        {
          "output_type": "display_data",
          "data": {
            "text/plain": [
              "<Figure size 640x480 with 2 Axes>"
            ],
            "image/png": "[encoded data removed]"
          },
          "metadata": {}
        },
        {
          "output_type": "stream",
          "name": "stdout",
          "text": [
            "1/1 [==============================] - 0s 48ms/step\n"
          ]
        },
        {
          "output_type": "display_data",
          "data": {
            "text/plain": [
              "<Figure size 640x480 with 1 Axes>"
            ],
            "image/png": "[encoded data removed]"
          },
          "metadata": {}
        },
        {
          "output_type": "stream",
          "name": "stdout",
          "text": [
            "correct answer: 6\n"
          ]
        }
      ]
    },
    {
      "cell_type": "code",
      "source": [
        "#hence,we are done with creating a human brain and then checking it's maximum accuracy at an extent."
      ],
      "metadata": {
        "id": "UzAmrdPNf7lP"
      },
      "execution_count": null,
      "outputs": []
    }
  ]
}